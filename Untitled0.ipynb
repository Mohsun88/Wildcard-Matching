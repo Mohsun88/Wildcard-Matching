{
  "nbformat": 4,
  "nbformat_minor": 0,
  "metadata": {
    "colab": {
      "name": "Untitled0.ipynb",
      "version": "0.3.2",
      "provenance": [],
      "collapsed_sections": [],
      "include_colab_link": true
    },
    "kernelspec": {
      "name": "python3",
      "display_name": "Python 3"
    }
  },
  "cells": [
    {
      "cell_type": "markdown",
      "metadata": {
        "id": "view-in-github",
        "colab_type": "text"
      },
      "source": [
        "<a href=\"https://colab.research.google.com/github/Mohsun88/Wildcard-Matching/blob/master/Untitled0.ipynb\" target=\"_parent\"><img src=\"https://colab.research.google.com/assets/colab-badge.svg\" alt=\"Open In Colab\"/></a>"
      ]
    },
    {
      "cell_type": "code",
      "metadata": {
        "id": "sF1PddN9uyB4",
        "colab_type": "code",
        "colab": {}
      },
      "source": [
        "import tensorflow as tf\n",
        "import pandas as pd\n",
        "import numpy as np \n",
        "from keras.models import Sequential\n",
        "from keras.layers import Dense, Activation"
      ],
      "execution_count": 0,
      "outputs": []
    },
    {
      "cell_type": "code",
      "metadata": {
        "id": "7thkESywwent",
        "colab_type": "code",
        "colab": {}
      },
      "source": [
        "xcell = pd.ExcelFile('Folds5x2_pp.xlsx')\n",
        "sheet_names=xcell.sheet_names"
      ],
      "execution_count": 0,
      "outputs": []
    },
    {
      "cell_type": "code",
      "metadata": {
        "id": "Lhu82D20rbbT",
        "colab_type": "code",
        "colab": {
          "base_uri": "https://localhost:8080/",
          "height": 204
        },
        "outputId": "7553610e-a066-4865-bb62-f06e2b3f148f"
      },
      "source": [
        "df_list=[]\n",
        "for sheet in sheet_names:\n",
        "    df=xcell.parse(sheet)\n",
        "    df_list.append(df)\n",
        "df=pd.concat(df_list)\n",
        "df.tail()"
      ],
      "execution_count": 84,
      "outputs": [
        {
          "output_type": "execute_result",
          "data": {
            "text/html": [
              "<div>\n",
              "<style scoped>\n",
              "    .dataframe tbody tr th:only-of-type {\n",
              "        vertical-align: middle;\n",
              "    }\n",
              "\n",
              "    .dataframe tbody tr th {\n",
              "        vertical-align: top;\n",
              "    }\n",
              "\n",
              "    .dataframe thead th {\n",
              "        text-align: right;\n",
              "    }\n",
              "</style>\n",
              "<table border=\"1\" class=\"dataframe\">\n",
              "  <thead>\n",
              "    <tr style=\"text-align: right;\">\n",
              "      <th></th>\n",
              "      <th>AT</th>\n",
              "      <th>V</th>\n",
              "      <th>AP</th>\n",
              "      <th>RH</th>\n",
              "      <th>PE</th>\n",
              "    </tr>\n",
              "  </thead>\n",
              "  <tbody>\n",
              "    <tr>\n",
              "      <th>9563</th>\n",
              "      <td>15.12</td>\n",
              "      <td>48.92</td>\n",
              "      <td>1011.80</td>\n",
              "      <td>72.93</td>\n",
              "      <td>462.59</td>\n",
              "    </tr>\n",
              "    <tr>\n",
              "      <th>9564</th>\n",
              "      <td>33.41</td>\n",
              "      <td>77.95</td>\n",
              "      <td>1010.30</td>\n",
              "      <td>59.72</td>\n",
              "      <td>432.90</td>\n",
              "    </tr>\n",
              "    <tr>\n",
              "      <th>9565</th>\n",
              "      <td>15.99</td>\n",
              "      <td>43.34</td>\n",
              "      <td>1014.20</td>\n",
              "      <td>78.66</td>\n",
              "      <td>465.96</td>\n",
              "    </tr>\n",
              "    <tr>\n",
              "      <th>9566</th>\n",
              "      <td>17.65</td>\n",
              "      <td>59.87</td>\n",
              "      <td>1018.58</td>\n",
              "      <td>94.65</td>\n",
              "      <td>450.93</td>\n",
              "    </tr>\n",
              "    <tr>\n",
              "      <th>9567</th>\n",
              "      <td>23.68</td>\n",
              "      <td>51.30</td>\n",
              "      <td>1011.86</td>\n",
              "      <td>71.24</td>\n",
              "      <td>451.67</td>\n",
              "    </tr>\n",
              "  </tbody>\n",
              "</table>\n",
              "</div>"
            ],
            "text/plain": [
              "         AT      V       AP     RH      PE\n",
              "9563  15.12  48.92  1011.80  72.93  462.59\n",
              "9564  33.41  77.95  1010.30  59.72  432.90\n",
              "9565  15.99  43.34  1014.20  78.66  465.96\n",
              "9566  17.65  59.87  1018.58  94.65  450.93\n",
              "9567  23.68  51.30  1011.86  71.24  451.67"
            ]
          },
          "metadata": {
            "tags": []
          },
          "execution_count": 84
        }
      ]
    },
    {
      "cell_type": "code",
      "metadata": {
        "id": "TwWIvVHK3_44",
        "colab_type": "code",
        "colab": {}
      },
      "source": [
        "from sklearn.preprocessing import MinMaxScaler\n",
        "Scaler = MinMaxScaler(feature_range=(0, 1))\n",
        "df_scaled = Scaler.fit_transform(df)"
      ],
      "execution_count": 0,
      "outputs": []
    },
    {
      "cell_type": "code",
      "metadata": {
        "id": "pFkR7Zpy9ZgG",
        "colab_type": "code",
        "colab": {}
      },
      "source": [
        "df_scaled = pd.DataFrame(df_scaled , columns=df.columns.values)"
      ],
      "execution_count": 0,
      "outputs": []
    },
    {
      "cell_type": "code",
      "metadata": {
        "id": "lOMPOkTg9wqn",
        "colab_type": "code",
        "colab": {
          "base_uri": "https://localhost:8080/",
          "height": 204
        },
        "outputId": "e966c96d-79ee-4de9-f91c-7db48f1f7589"
      },
      "source": [
        "df_scaled.head()"
      ],
      "execution_count": 87,
      "outputs": [
        {
          "output_type": "execute_result",
          "data": {
            "text/html": [
              "<div>\n",
              "<style scoped>\n",
              "    .dataframe tbody tr th:only-of-type {\n",
              "        vertical-align: middle;\n",
              "    }\n",
              "\n",
              "    .dataframe tbody tr th {\n",
              "        vertical-align: top;\n",
              "    }\n",
              "\n",
              "    .dataframe thead th {\n",
              "        text-align: right;\n",
              "    }\n",
              "</style>\n",
              "<table border=\"1\" class=\"dataframe\">\n",
              "  <thead>\n",
              "    <tr style=\"text-align: right;\">\n",
              "      <th></th>\n",
              "      <th>AT</th>\n",
              "      <th>V</th>\n",
              "      <th>AP</th>\n",
              "      <th>RH</th>\n",
              "      <th>PE</th>\n",
              "    </tr>\n",
              "  </thead>\n",
              "  <tbody>\n",
              "    <tr>\n",
              "      <th>0</th>\n",
              "      <td>0.372521</td>\n",
              "      <td>0.291815</td>\n",
              "      <td>0.771591</td>\n",
              "      <td>0.638204</td>\n",
              "      <td>0.569536</td>\n",
              "    </tr>\n",
              "    <tr>\n",
              "      <th>1</th>\n",
              "      <td>0.662040</td>\n",
              "      <td>0.669039</td>\n",
              "      <td>0.671863</td>\n",
              "      <td>0.449330</td>\n",
              "      <td>0.319338</td>\n",
              "    </tr>\n",
              "    <tr>\n",
              "      <th>2</th>\n",
              "      <td>0.093484</td>\n",
              "      <td>0.249822</td>\n",
              "      <td>0.476862</td>\n",
              "      <td>0.892493</td>\n",
              "      <td>0.904636</td>\n",
              "    </tr>\n",
              "    <tr>\n",
              "      <th>3</th>\n",
              "      <td>0.539660</td>\n",
              "      <td>0.568683</td>\n",
              "      <td>0.429349</td>\n",
              "      <td>0.684718</td>\n",
              "      <td>0.347285</td>\n",
              "    </tr>\n",
              "    <tr>\n",
              "      <th>4</th>\n",
              "      <td>0.255241</td>\n",
              "      <td>0.216014</td>\n",
              "      <td>0.404355</td>\n",
              "      <td>0.952547</td>\n",
              "      <td>0.710464</td>\n",
              "    </tr>\n",
              "  </tbody>\n",
              "</table>\n",
              "</div>"
            ],
            "text/plain": [
              "         AT         V        AP        RH        PE\n",
              "0  0.372521  0.291815  0.771591  0.638204  0.569536\n",
              "1  0.662040  0.669039  0.671863  0.449330  0.319338\n",
              "2  0.093484  0.249822  0.476862  0.892493  0.904636\n",
              "3  0.539660  0.568683  0.429349  0.684718  0.347285\n",
              "4  0.255241  0.216014  0.404355  0.952547  0.710464"
            ]
          },
          "metadata": {
            "tags": []
          },
          "execution_count": 87
        }
      ]
    },
    {
      "cell_type": "code",
      "metadata": {
        "id": "mU0xb6Ah5e2C",
        "colab_type": "code",
        "colab": {}
      },
      "source": [
        "from sklearn.model_selection import train_test_split\n",
        "X = df_scaled[['AT','V','AP','RH']]\n",
        "y = df_scaled['PE']\n",
        "X_train, X_test, y_train, y_test = train_test_split(X, y, test_size=0.10, random_state=42)"
      ],
      "execution_count": 0,
      "outputs": []
    },
    {
      "cell_type": "code",
      "metadata": {
        "id": "uqL0-yTW6lJ8",
        "colab_type": "code",
        "colab": {}
      },
      "source": [
        "model = tf.keras.Sequential()\n",
        "model.add(tf.keras.layers.Dense(50, activation='relu'))\n",
        "model.add(tf.keras.layers.Dense(100, activation='relu'))\n",
        "model.add(tf.keras.layers.Dense(50, activation='relu'))\n",
        "model.add(tf.keras.layers.Dense(1))"
      ],
      "execution_count": 0,
      "outputs": []
    },
    {
      "cell_type": "code",
      "metadata": {
        "id": "8L57yCI_7n27",
        "colab_type": "code",
        "colab": {}
      },
      "source": [
        "model.compile(loss='mean_squared_error', optimizer='adam', metrics=['mae'])"
      ],
      "execution_count": 0,
      "outputs": []
    },
    {
      "cell_type": "code",
      "metadata": {
        "id": "dAz2HEptA-1k",
        "colab_type": "code",
        "colab": {}
      },
      "source": [
        "X = X.values\n",
        "y = y.values\n",
        "X_train = X_train.values\n",
        "y_train = y_train.values"
      ],
      "execution_count": 0,
      "outputs": []
    },
    {
      "cell_type": "code",
      "metadata": {
        "id": "Vg5fvG_0-u9n",
        "colab_type": "code",
        "colab": {
          "base_uri": "https://localhost:8080/",
          "height": 3417
        },
        "outputId": "962289fb-04ce-4d1f-e905-ee0010c2a9f7"
      },
      "source": [
        "learning = model.fit(X_train,\n",
        "          y_train,epochs=100,\n",
        "          shuffle=True,\n",
        "          verbose=2)"
      ],
      "execution_count": 104,
      "outputs": [
        {
          "output_type": "stream",
          "text": [
            "Epoch 1/100\n",
            " - 2s - loss: 0.0015 - mean_absolute_error: 0.0286\n",
            "Epoch 2/100\n",
            " - 2s - loss: 0.0015 - mean_absolute_error: 0.0285\n",
            "Epoch 3/100\n",
            " - 2s - loss: 0.0015 - mean_absolute_error: 0.0284\n",
            "Epoch 4/100\n",
            " - 2s - loss: 0.0015 - mean_absolute_error: 0.0282\n",
            "Epoch 5/100\n",
            " - 2s - loss: 0.0015 - mean_absolute_error: 0.0283\n",
            "Epoch 6/100\n",
            " - 2s - loss: 0.0015 - mean_absolute_error: 0.0284\n",
            "Epoch 7/100\n",
            " - 2s - loss: 0.0015 - mean_absolute_error: 0.0283\n",
            "Epoch 8/100\n",
            " - 2s - loss: 0.0015 - mean_absolute_error: 0.0284\n",
            "Epoch 9/100\n",
            " - 2s - loss: 0.0015 - mean_absolute_error: 0.0283\n",
            "Epoch 10/100\n",
            " - 2s - loss: 0.0015 - mean_absolute_error: 0.0283\n",
            "Epoch 11/100\n",
            " - 2s - loss: 0.0015 - mean_absolute_error: 0.0281\n",
            "Epoch 12/100\n",
            " - 2s - loss: 0.0015 - mean_absolute_error: 0.0282\n",
            "Epoch 13/100\n",
            " - 2s - loss: 0.0015 - mean_absolute_error: 0.0281\n",
            "Epoch 14/100\n",
            " - 2s - loss: 0.0015 - mean_absolute_error: 0.0281\n",
            "Epoch 15/100\n",
            " - 2s - loss: 0.0015 - mean_absolute_error: 0.0281\n",
            "Epoch 16/100\n",
            " - 2s - loss: 0.0015 - mean_absolute_error: 0.0282\n",
            "Epoch 17/100\n",
            " - 2s - loss: 0.0015 - mean_absolute_error: 0.0280\n",
            "Epoch 18/100\n",
            " - 2s - loss: 0.0015 - mean_absolute_error: 0.0281\n",
            "Epoch 19/100\n",
            " - 2s - loss: 0.0015 - mean_absolute_error: 0.0281\n",
            "Epoch 20/100\n",
            " - 2s - loss: 0.0015 - mean_absolute_error: 0.0283\n",
            "Epoch 21/100\n",
            " - 2s - loss: 0.0015 - mean_absolute_error: 0.0281\n",
            "Epoch 22/100\n",
            " - 2s - loss: 0.0015 - mean_absolute_error: 0.0282\n",
            "Epoch 23/100\n",
            " - 2s - loss: 0.0015 - mean_absolute_error: 0.0281\n",
            "Epoch 24/100\n",
            " - 2s - loss: 0.0015 - mean_absolute_error: 0.0280\n",
            "Epoch 25/100\n",
            " - 2s - loss: 0.0015 - mean_absolute_error: 0.0280\n",
            "Epoch 26/100\n",
            " - 2s - loss: 0.0015 - mean_absolute_error: 0.0280\n",
            "Epoch 27/100\n",
            " - 2s - loss: 0.0015 - mean_absolute_error: 0.0282\n",
            "Epoch 28/100\n",
            " - 2s - loss: 0.0015 - mean_absolute_error: 0.0281\n",
            "Epoch 29/100\n",
            " - 2s - loss: 0.0015 - mean_absolute_error: 0.0278\n",
            "Epoch 30/100\n",
            " - 2s - loss: 0.0015 - mean_absolute_error: 0.0279\n",
            "Epoch 31/100\n",
            " - 2s - loss: 0.0015 - mean_absolute_error: 0.0280\n",
            "Epoch 32/100\n",
            " - 2s - loss: 0.0015 - mean_absolute_error: 0.0279\n",
            "Epoch 33/100\n",
            " - 2s - loss: 0.0015 - mean_absolute_error: 0.0280\n",
            "Epoch 34/100\n",
            " - 2s - loss: 0.0015 - mean_absolute_error: 0.0278\n",
            "Epoch 35/100\n",
            " - 2s - loss: 0.0015 - mean_absolute_error: 0.0280\n",
            "Epoch 36/100\n",
            " - 2s - loss: 0.0015 - mean_absolute_error: 0.0279\n",
            "Epoch 37/100\n",
            " - 2s - loss: 0.0015 - mean_absolute_error: 0.0278\n",
            "Epoch 38/100\n",
            " - 2s - loss: 0.0015 - mean_absolute_error: 0.0278\n",
            "Epoch 39/100\n",
            " - 2s - loss: 0.0015 - mean_absolute_error: 0.0279\n",
            "Epoch 40/100\n",
            " - 2s - loss: 0.0015 - mean_absolute_error: 0.0279\n",
            "Epoch 41/100\n",
            " - 2s - loss: 0.0015 - mean_absolute_error: 0.0276\n",
            "Epoch 42/100\n",
            " - 2s - loss: 0.0015 - mean_absolute_error: 0.0279\n",
            "Epoch 43/100\n",
            " - 2s - loss: 0.0015 - mean_absolute_error: 0.0278\n",
            "Epoch 44/100\n",
            " - 2s - loss: 0.0015 - mean_absolute_error: 0.0277\n",
            "Epoch 45/100\n",
            " - 2s - loss: 0.0015 - mean_absolute_error: 0.0277\n",
            "Epoch 46/100\n",
            " - 2s - loss: 0.0015 - mean_absolute_error: 0.0277\n",
            "Epoch 47/100\n",
            " - 2s - loss: 0.0015 - mean_absolute_error: 0.0277\n",
            "Epoch 48/100\n",
            " - 2s - loss: 0.0015 - mean_absolute_error: 0.0276\n",
            "Epoch 49/100\n",
            " - 2s - loss: 0.0015 - mean_absolute_error: 0.0276\n",
            "Epoch 50/100\n",
            " - 2s - loss: 0.0015 - mean_absolute_error: 0.0277\n",
            "Epoch 51/100\n",
            " - 2s - loss: 0.0015 - mean_absolute_error: 0.0276\n",
            "Epoch 52/100\n",
            " - 2s - loss: 0.0015 - mean_absolute_error: 0.0277\n",
            "Epoch 53/100\n",
            " - 2s - loss: 0.0015 - mean_absolute_error: 0.0277\n",
            "Epoch 54/100\n",
            " - 2s - loss: 0.0014 - mean_absolute_error: 0.0276\n",
            "Epoch 55/100\n",
            " - 2s - loss: 0.0015 - mean_absolute_error: 0.0276\n",
            "Epoch 56/100\n",
            " - 2s - loss: 0.0015 - mean_absolute_error: 0.0276\n",
            "Epoch 57/100\n",
            " - 2s - loss: 0.0015 - mean_absolute_error: 0.0276\n",
            "Epoch 58/100\n",
            " - 2s - loss: 0.0015 - mean_absolute_error: 0.0276\n",
            "Epoch 59/100\n",
            " - 2s - loss: 0.0015 - mean_absolute_error: 0.0276\n",
            "Epoch 60/100\n",
            " - 2s - loss: 0.0014 - mean_absolute_error: 0.0275\n",
            "Epoch 61/100\n",
            " - 2s - loss: 0.0015 - mean_absolute_error: 0.0277\n",
            "Epoch 62/100\n",
            " - 2s - loss: 0.0014 - mean_absolute_error: 0.0275\n",
            "Epoch 63/100\n",
            " - 2s - loss: 0.0015 - mean_absolute_error: 0.0275\n",
            "Epoch 64/100\n",
            " - 2s - loss: 0.0014 - mean_absolute_error: 0.0274\n",
            "Epoch 65/100\n",
            " - 2s - loss: 0.0014 - mean_absolute_error: 0.0274\n",
            "Epoch 66/100\n",
            " - 2s - loss: 0.0014 - mean_absolute_error: 0.0273\n",
            "Epoch 67/100\n",
            " - 2s - loss: 0.0015 - mean_absolute_error: 0.0277\n",
            "Epoch 68/100\n",
            " - 2s - loss: 0.0014 - mean_absolute_error: 0.0275\n",
            "Epoch 69/100\n",
            " - 2s - loss: 0.0014 - mean_absolute_error: 0.0275\n",
            "Epoch 70/100\n",
            " - 2s - loss: 0.0014 - mean_absolute_error: 0.0274\n",
            "Epoch 71/100\n",
            " - 2s - loss: 0.0014 - mean_absolute_error: 0.0274\n",
            "Epoch 72/100\n",
            " - 2s - loss: 0.0014 - mean_absolute_error: 0.0275\n",
            "Epoch 73/100\n",
            " - 2s - loss: 0.0014 - mean_absolute_error: 0.0275\n",
            "Epoch 74/100\n",
            " - 2s - loss: 0.0014 - mean_absolute_error: 0.0273\n",
            "Epoch 75/100\n",
            " - 2s - loss: 0.0014 - mean_absolute_error: 0.0273\n",
            "Epoch 76/100\n",
            " - 2s - loss: 0.0014 - mean_absolute_error: 0.0274\n",
            "Epoch 77/100\n",
            " - 2s - loss: 0.0014 - mean_absolute_error: 0.0273\n",
            "Epoch 78/100\n",
            " - 2s - loss: 0.0014 - mean_absolute_error: 0.0274\n",
            "Epoch 79/100\n",
            " - 2s - loss: 0.0015 - mean_absolute_error: 0.0276\n",
            "Epoch 80/100\n",
            " - 2s - loss: 0.0014 - mean_absolute_error: 0.0271\n",
            "Epoch 81/100\n",
            " - 2s - loss: 0.0014 - mean_absolute_error: 0.0273\n",
            "Epoch 82/100\n",
            " - 2s - loss: 0.0014 - mean_absolute_error: 0.0274\n",
            "Epoch 83/100\n",
            " - 2s - loss: 0.0014 - mean_absolute_error: 0.0273\n",
            "Epoch 84/100\n",
            " - 2s - loss: 0.0014 - mean_absolute_error: 0.0273\n",
            "Epoch 85/100\n",
            " - 2s - loss: 0.0014 - mean_absolute_error: 0.0272\n",
            "Epoch 86/100\n",
            " - 2s - loss: 0.0014 - mean_absolute_error: 0.0273\n",
            "Epoch 87/100\n",
            " - 2s - loss: 0.0014 - mean_absolute_error: 0.0273\n",
            "Epoch 88/100\n",
            " - 2s - loss: 0.0014 - mean_absolute_error: 0.0273\n",
            "Epoch 89/100\n",
            " - 2s - loss: 0.0014 - mean_absolute_error: 0.0272\n",
            "Epoch 90/100\n",
            " - 2s - loss: 0.0014 - mean_absolute_error: 0.0272\n",
            "Epoch 91/100\n",
            " - 2s - loss: 0.0014 - mean_absolute_error: 0.0272\n",
            "Epoch 92/100\n",
            " - 2s - loss: 0.0014 - mean_absolute_error: 0.0271\n",
            "Epoch 93/100\n",
            " - 2s - loss: 0.0014 - mean_absolute_error: 0.0272\n",
            "Epoch 94/100\n",
            " - 2s - loss: 0.0014 - mean_absolute_error: 0.0271\n",
            "Epoch 95/100\n",
            " - 2s - loss: 0.0014 - mean_absolute_error: 0.0272\n",
            "Epoch 96/100\n",
            " - 2s - loss: 0.0014 - mean_absolute_error: 0.0273\n",
            "Epoch 97/100\n",
            " - 2s - loss: 0.0014 - mean_absolute_error: 0.0272\n",
            "Epoch 98/100\n",
            " - 2s - loss: 0.0014 - mean_absolute_error: 0.0271\n",
            "Epoch 99/100\n",
            " - 2s - loss: 0.0014 - mean_absolute_error: 0.0272\n",
            "Epoch 100/100\n",
            " - 2s - loss: 0.0014 - mean_absolute_error: 0.0271\n"
          ],
          "name": "stdout"
        }
      ]
    },
    {
      "cell_type": "code",
      "metadata": {
        "id": "PJ91nUbI_fhe",
        "colab_type": "code",
        "colab": {}
      },
      "source": [
        "prediction = model.predict(X_test)"
      ],
      "execution_count": 0,
      "outputs": []
    },
    {
      "cell_type": "code",
      "metadata": {
        "id": "hiWJnpUYB4pT",
        "colab_type": "code",
        "colab": {
          "base_uri": "https://localhost:8080/",
          "height": 102
        },
        "outputId": "64d14977-925b-4b3b-f600-f6f64f61a8c1"
      },
      "source": [
        "prediction[0:5]"
      ],
      "execution_count": 106,
      "outputs": [
        {
          "output_type": "execute_result",
          "data": {
            "text/plain": [
              "array([[0.11302675],\n",
              "       [0.6261234 ],\n",
              "       [0.25719088],\n",
              "       [0.5865488 ],\n",
              "       [0.3741781 ]], dtype=float32)"
            ]
          },
          "metadata": {
            "tags": []
          },
          "execution_count": 106
        }
      ]
    },
    {
      "cell_type": "code",
      "metadata": {
        "id": "KJ76fuvxB6yu",
        "colab_type": "code",
        "colab": {
          "base_uri": "https://localhost:8080/",
          "height": 119
        },
        "outputId": "a65a1cf0-682c-4c43-8793-0a98eaa087e8"
      },
      "source": [
        "y_test[:5]"
      ],
      "execution_count": 107,
      "outputs": [
        {
          "output_type": "execute_result",
          "data": {
            "text/plain": [
              "13608    0.120795\n",
              "22792    0.711258\n",
              "18853    0.217351\n",
              "24267    0.601060\n",
              "37715    0.291523\n",
              "Name: PE, dtype: float64"
            ]
          },
          "metadata": {
            "tags": []
          },
          "execution_count": 107
        }
      ]
    },
    {
      "cell_type": "code",
      "metadata": {
        "id": "clihYvHcCKDT",
        "colab_type": "code",
        "colab": {}
      },
      "source": [
        "from sklearn.metrics import mean_squared_error\n",
        "from math import sqrt\n",
        "rmse = sqrt(mean_squared_error(y_test, prediction))"
      ],
      "execution_count": 0,
      "outputs": []
    },
    {
      "cell_type": "code",
      "metadata": {
        "id": "Jb1X2bE5Dqnx",
        "colab_type": "code",
        "colab": {
          "base_uri": "https://localhost:8080/",
          "height": 34
        },
        "outputId": "a3eaa748-c9af-4c15-ed43-d3795b364ed3"
      },
      "source": [
        "rmse"
      ],
      "execution_count": 109,
      "outputs": [
        {
          "output_type": "execute_result",
          "data": {
            "text/plain": [
              "0.039344989017351305"
            ]
          },
          "metadata": {
            "tags": []
          },
          "execution_count": 109
        }
      ]
    },
    {
      "cell_type": "code",
      "metadata": {
        "id": "FJ9PcEsVDsiN",
        "colab_type": "code",
        "colab": {
          "base_uri": "https://localhost:8080/",
          "height": 295
        },
        "outputId": "1646cf70-909e-40bc-b1fc-baed1a93dcf9"
      },
      "source": [
        "import matplotlib.pyplot as plt\n",
        "\n",
        "\n",
        "plt.plot(learning.history['loss'])\n",
        "plt.title('model loss')\n",
        "plt.ylabel('loss')\n",
        "plt.xlabel('epoch')\n",
        "plt.legend('train', loc='upper right')\n",
        "plt.show()"
      ],
      "execution_count": 114,
      "outputs": [
        {
          "output_type": "display_data",
          "data": {
            "image/png": "[encoded data removed]",
            "text/plain": [
              "<Figure size 432x288 with 1 Axes>"
            ]
          },
          "metadata": {
            "tags": []
          }
        }
      ]
    },
    {
      "cell_type": "code",
      "metadata": {
        "id": "e6iv2W1ERzUS",
        "colab_type": "code",
        "colab": {
          "base_uri": "https://localhost:8080/",
          "height": 51
        },
        "outputId": "b95a1cc8-c526-4ea5-cf85-3ef498f47e4f"
      },
      "source": [
        "from sklearn.metrics import mean_absolute_error\n",
        "mse = mean_squared_error(y_test, prediction)\n",
        "mae = mean_absolute_error(y_test, prediction)\n",
        "print(mse)\n",
        "print(mae)"
      ],
      "execution_count": 115,
      "outputs": [
        {
          "output_type": "stream",
          "text": [
            "0.0015480281607754946\n",
            "0.028928918585685148\n"
          ],
          "name": "stdout"
        }
      ]
    },
    {
      "cell_type": "markdown",
      "metadata": {
        "id": "pZlABAm7dlWy",
        "colab_type": "text"
      },
      "source": [
        "Because the constant gradient of ReLUs results in faster learning, it has an advantage to use "
      ]
    },
    {
      "cell_type": "markdown",
      "metadata": {
        "id": "0B0D8UdafSpt",
        "colab_type": "text"
      },
      "source": [
        "Number of layers I have defined is just an option, we can use more layers for our model to learn better when we have big data"
      ]
    },
    {
      "cell_type": "code",
      "metadata": {
        "id": "qFN003Nwf1zb",
        "colab_type": "code",
        "colab": {
          "base_uri": "https://localhost:8080/",
          "height": 34
        },
        "outputId": "d11b1360-cb62-41f9-ef2d-1f117dd11173"
      },
      "source": [
        "print(learning.history.keys())"
      ],
      "execution_count": 112,
      "outputs": [
        {
          "output_type": "stream",
          "text": [
            "dict_keys(['loss', 'mean_absolute_error'])\n"
          ],
          "name": "stdout"
        }
      ]
    },
    {
      "cell_type": "code",
      "metadata": {
        "id": "rPSMKV1Ahobp",
        "colab_type": "code",
        "colab": {}
      },
      "source": [
        ""
      ],
      "execution_count": 0,
      "outputs": []
    }
  ]
}